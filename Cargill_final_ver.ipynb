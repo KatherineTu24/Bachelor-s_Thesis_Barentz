{
  "nbformat": 4,
  "nbformat_minor": 0,
  "metadata": {
    "colab": {
      "private_outputs": true,
      "provenance": []
    },
    "kernelspec": {
      "name": "python3",
      "display_name": "Python 3"
    },
    "language_info": {
      "name": "python"
    }
  },
  "cells": [
    {
      "cell_type": "markdown",
      "source": [
        "# Information Extraction technique: Pure Regular Expression method\n",
        "CARGILL notebook"
      ],
      "metadata": {
        "id": "54HO0H1kgXwp"
      }
    },
    {
      "cell_type": "code",
      "execution_count": null,
      "metadata": {
        "id": "m7_8aZtKRbhB"
      },
      "outputs": [],
      "source": [
        "# install PyPDF2 package if it's not in your IDE\n",
        "!pip install PyPDF2"
      ]
    },
    {
      "cell_type": "markdown",
      "source": [
        "Import necessary packages and Define the functions"
      ],
      "metadata": {
        "id": "7SKFZ5l-gwir"
      }
    },
    {
      "cell_type": "code",
      "source": [
        "import re # regular expression(re) to formulate patterns.\n",
        "import PyPDF2 # PyPDF2 to extract information from PDF files to plain text.\n",
        "import pandas as pd # pandas to store extracted information to data frame data type\n",
        "\n",
        "## Dictionary of Patterns for each attribute - Define patterns. Note that, if new files are added, check if the pattern is included or not.\n",
        "PATTERNS_CARGILL = {\n",
        "    \"Product name\": [\n",
        "        r\"Product name\\s*:\\s*(.+)\",\n",
        "        r\"Trade name\\s*:\\s*(.*)\"\n",
        "    ],\n",
        "    \"Chemical\": [\n",
        "        r\"Chemical name\\s*:\\s*([\\w\\s',-]+-C\\d{2}-\\d{2}-alkyl derivs\\.)\",\n",
        "        r\"Chemical name CAS-No. Concentration \\(% w/w\\)\\s+([\\w\\s,-]+?(?:\\n[\\w\\s,-]+)*)(?=\\s+\\d{2,7}-\\d{2,3}-\\d{1})\",\n",
        "        r\"Chemical name\\s*:\\s*(.*)\",\n",
        "        r\"Chemical Name\\s*:\\s*(.*\\S)\",\n",
        "        r\"\\n([A-Za-z\\s-]+) \\d{2,5}-\\d{2,3}-\\d{1}\"\n",
        "    ],\n",
        "    \"CAS-No.\": [\n",
        "        r\"(\\d{2,6}-\\d{2}-\\d{1})\",\n",
        "        r\"\\b(\\d{5}-\\d{2}-\\d{1})\\b\"\n",
        "    ],\n",
        "    \"EC-No.\": [\n",
        "        r\"(\\n\\d{3}-\\d{3}-\\d{1})\"\n",
        "    ],\n",
        "    \"Market Segment\": [\n",
        "        r\"Use of the Sub-\\nstance/Mixture\\s+:\\s+(.*)\",\n",
        "        r\"Recommended use\\s*:\\s*(.+)\",\n",
        "        r\"Use of the\\s+Substance/Mixture\\s*:\\s*(.+)\"\n",
        "    ],\n",
        "    \"Supplier ID Description\": [\n",
        "        r\"Company\\s*:\\s*(.+)\",\n",
        "        r\"Company name of supplier\\s+:\\s+(.*)\"\n",
        "    ],\n",
        "    \"UN Code\": [\n",
        "        r\"(UN\\s\\d{4})\",\n",
        "        r\"(Not regulated as a dangerous good)\"\n",
        "    ],\n",
        "    \"Hazard\": [\n",
        "        r\"GHS classification.*(?=Not a hazardous substance or mixture)\",\n",
        "        r\"(Not a hazardous substance or mixture)\"\n",
        "    ]\n",
        "}\n",
        "\n",
        "def extract_text_from_pdf(file_path = str) -> str:\n",
        "    # Define a function to extract everything from PDF to txt. file\n",
        "    with open(file_path, \"rb\") as pdf_file:\n",
        "        pdf_reader = PyPDF2.PdfReader(pdf_file)\n",
        "        all_text = [page.extract_text() for page in pdf_reader.pages]\n",
        "    return \"\\n\".join(all_text)\n",
        "\n",
        "def search_patterns(patterns = str, text = str) -> str:\n",
        "    # iterate through all the texts to find patterns listed in the PATTERNS_CARGILL dictionary\n",
        "    for pattern in patterns:\n",
        "        match = re.search(pattern, text)\n",
        "        if match:\n",
        "            return match.group(1).replace('\\n', ' ').strip()\n",
        "    return \"No information found\"\n",
        "\n",
        "def extract_info_from_text(pdf_text = str) -> pd:\n",
        "    extracted_info = {}\n",
        "    for attribute, patterns in PATTERNS_CARGILL.items():\n",
        "        extracted_info[attribute] = search_patterns(patterns, pdf_text)\n",
        "\n",
        "    # Set hazard value to 0 if it's found, otherwise 1\n",
        "    extracted_info[\"Hazard\"] = 0 if extracted_info[\"Hazard\"] != \"No information found\" else 1\n",
        "    return extracted_info\n",
        "\n",
        "def extract_info_from_pdfs(file_paths = str) -> str:\n",
        "    data = []\n",
        "    for file_path in file_paths:\n",
        "        pdf_text = extract_text_from_pdf(file_path)\n",
        "        info = extract_info_from_text(pdf_text)\n",
        "        info[\"File Path\"] = file_path\n",
        "        data.append(info)\n",
        "    return data\n"
      ],
      "metadata": {
        "id": "gb3ZMjy_GYFN"
      },
      "execution_count": null,
      "outputs": []
    },
    {
      "cell_type": "markdown",
      "source": [
        "Execution Code Block"
      ],
      "metadata": {
        "id": "YT8bWqDCg5n8"
      }
    },
    {
      "cell_type": "code",
      "source": [
        "file_paths = [\n",
        "    \"CRODA-ANFOMUL 2000-SDS-EN.pdf\",\n",
        "    \"CRODA-ANFOMUL 2500-SDS-EN.pdf\",\n",
        "    \"CRODA-ANFOMUL S4M-SDS-EN.pdf\",\n",
        "    \"CRODA-Atmer 100-SDS-EN.pdf\",\n",
        "    \"CRODA-Atmer 1013-SDS-EN.pdf\",\n",
        "    \"CRODA-Atmer 116-SDS-EN.pdf\",\n",
        "    \"CRODA-Atmer 190-SDS-EN.pdf\",\n",
        "    \"CRODA-Atmer 262-SDS-EN.pdf\",\n",
        "    \"CRODA-Atmer 7306-SDS-EN.pdf\",\n",
        "    \"CRODA-Crodamide 212-SDS-EN.pdf\",\n",
        "    \"CRODA-Crodamide BR-SDS-EN.pdf\",\n",
        "    \"CRODA-Crodamide EBO-SDS-EN.pdf\",\n",
        "    \"CRODA-Crodamide EBS-SDS-EN.pdf\",\n",
        "    \"CRODA-Crodamide ER DC08311-SDS-EN.pdf\",\n",
        "    \"CRODA-Crodamide ER DC08312-SDS-EN.pdf\",\n",
        "    \"CRODA-Crodamide O-SDS-EN.pdf\",\n",
        "    \"CRODA-Crodamide VRX-SDS-EN.pdf\",\n",
        "    \"CRODA-IONPHASE ESTAT2-PL-(FI)-SDS-EN.pdf\",\n",
        "    \"CRODA-IONPHASE RSTAT2-PL-(FI)-SDS-EN.pdf\",\n",
        "    \"CRODA-IONPHASE U1-PL-(FI)-SDS-EN.pdf\",\n",
        "    \"CRODA-Incromold K-SDS-EN.pdf\",\n",
        "    \"CRODA-Incroslip SL-SDS-EN.pdf\",\n",
        "    \"CRODA-Ionphase Fstat-SDS-EN.pdf\",\n",
        "    \"CRODA-Ionphase PE0108M-SDS-EN.pdf\",\n",
        "    \"CRODA-Kemelix D309-SDS-EN.pdf\",\n",
        "    \"CRODA-PERFAD FA 3340-LQ-(GD)-SDS-EN.pdf\",\n",
        "    \"CRODA-PRIPOL 1022 VEG-LQ-(GD)-SDS-EN.pdf\",\n",
        "    \"CRODA-Prifac 7990-SDS-EN.pdf\",\n",
        "    \"CRODA-Priolube 3970-SDS-EN.pdf\",\n",
        "    \"CRODA-Priplast 3192-SDS-EN.pdf\",\n",
        "    \"CRODA-Pripol 1029-SDS-EN.pdf\",\n",
        "    \"CRODA-Pripol 1040-SDS-EN.pdf\",\n",
        "    \"CRODA-Prisorine 3505-SDS-EN.pdf\",\n",
        "    \"CRODA-Prisorine 3515-SDS-EN.pdf\",\n",
        "    \"CRODA-Pristerene 4963-SDS-EN.pdf\",\n",
        "    \"EQUUS-KEMELIX D317-LQ-(MV)-SDS-EN.PDF\",\n",
        "    \"CRODA-R05180B-TDS-EN.pdf\"\n",
        "] # Add all your PDF file paths here\n",
        "\n",
        "# Extract information from all PDF files\n",
        "data = extract_info_from_pdfs(file_paths)\n",
        "\n",
        "# Convert the list of dictionaries into a DataFrame and display the DataFrame\n",
        "df = pd.DataFrame(data)\n",
        "df"
      ],
      "metadata": {
        "id": "aSf7X8wL9GOr"
      },
      "execution_count": null,
      "outputs": []
    },
    {
      "cell_type": "markdown",
      "source": [
        "## DataFrame to MS Excel"
      ],
      "metadata": {
        "id": "HFNPyUdahCeP"
      }
    },
    {
      "cell_type": "code",
      "source": [
        "df.to_excel(\"extracted_cargill.xlsx\", index = False)"
      ],
      "metadata": {
        "id": "Xqmt8_zUmyrF"
      },
      "execution_count": null,
      "outputs": []
    },
    {
      "cell_type": "markdown",
      "source": [
        "## DataFrame to SQL"
      ],
      "metadata": {
        "id": "zWlFWntKhDW8"
      }
    },
    {
      "cell_type": "code",
      "source": [
        "from sqlalchemy import create_engine\n",
        "engine = create_engine(\"sqlite://\", echo = False)"
      ],
      "metadata": {
        "id": "AcPNB8tvQcB7"
      },
      "execution_count": null,
      "outputs": []
    },
    {
      "cell_type": "code",
      "source": [
        "df.to_sql(name = \"product\", con = engine)"
      ],
      "metadata": {
        "id": "i6g0x2j8hJP4"
      },
      "execution_count": null,
      "outputs": []
    },
    {
      "cell_type": "code",
      "source": [
        "from sqlalchemy import text\n",
        "with engine.connect() as conn:\n",
        "    conn.execute(text(\"SELECT * FROM product\")).fetchall()"
      ],
      "metadata": {
        "id": "c1A3hDSahLDo"
      },
      "execution_count": null,
      "outputs": []
    },
    {
      "cell_type": "code",
      "source": [
        "query = \"SELECT* FROM product cargill\""
      ],
      "metadata": {
        "id": "mO4kYLnmhMZ_"
      },
      "execution_count": null,
      "outputs": []
    },
    {
      "cell_type": "code",
      "source": [
        "df_filtered = pd.read_sql_query(query, con = engine)\n",
        "df_filtered"
      ],
      "metadata": {
        "id": "Dc7gwG76hOAa"
      },
      "execution_count": null,
      "outputs": []
    },
    {
      "cell_type": "code",
      "source": [],
      "metadata": {
        "id": "iORmk7KHiHCn"
      },
      "execution_count": null,
      "outputs": []
    }
  ]
}