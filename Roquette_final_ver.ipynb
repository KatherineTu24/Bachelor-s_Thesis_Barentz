{
  "nbformat": 4,
  "nbformat_minor": 0,
  "metadata": {
    "colab": {
      "private_outputs": true,
      "provenance": []
    },
    "kernelspec": {
      "name": "python3",
      "display_name": "Python 3"
    },
    "language_info": {
      "name": "python"
    }
  },
  "cells": [
    {
      "cell_type": "markdown",
      "source": [
        "# Information Extraction technique: Pure Regular Expression method\n",
        "ROQUETTE notebook"
      ],
      "metadata": {
        "id": "lmLZI0wRfwc9"
      }
    },
    {
      "cell_type": "code",
      "execution_count": null,
      "metadata": {
        "id": "A15gakDkQqAZ"
      },
      "outputs": [],
      "source": [
        "# install PyPDF2 package if it's not in your IDE\n",
        "!pip install PyPDF2"
      ]
    },
    {
      "cell_type": "markdown",
      "source": [
        "Import necessary packages and Define the functions"
      ],
      "metadata": {
        "id": "MjLxFFo0gAcT"
      }
    },
    {
      "cell_type": "code",
      "source": [
        "# import necessary packages\n",
        "import re # regular expression(re) to formulate patterns.\n",
        "import PyPDF2 # PyPDF2 to extract information from PDF files to plain text.\n",
        "import pandas as pd # pandas to store extracted information to data frame data type\n",
        "\n",
        "# Dictionary of Patterns for each attribute - Define patterns. Note that, if new files are added, check if the pattern is included or not.\n",
        "PATTERNS = {\n",
        "    \"Product name\": [\n",
        "        r\"1\\.1 Product identifier\\s*:\\s*Product name\\s*:\\s*([^\\n]+)\",\n",
        "        r\"Product name : ([^P].+?)(?=  Product sheet|$)\",\n",
        "        r\"Product name\\s*:\\s*(\\w+\\s*®\\s*\\w+)\",\n",
        "        r\"Product name\\s*:\\s*(.+)(?=\\s+Product No)\"\n",
        "        ], # List of Patterns for PRODUCT NAME\n",
        "    \"Chemical\": [\n",
        "        r\"Chemical name\\s*:\\s*(.+)\",\n",
        "        r\"\\b([A-Z][a-z]+(?:\\s[a-z]+)*)\\b(?=\\s+>=)\"\n",
        "        ], # List of Patterns for CHEMICAL\n",
        "    \"CAS-No.\": [\n",
        "        r\"CAS\\s*-No.\\s*:\\s*(.+)\",\n",
        "        r\"\\b(\\d{4,5}\\s*-\\s*\\d{2}\\s*-\\s*\\d{1})\\b\"\n",
        "        ], # List of Patterns for CAS-NO.\n",
        "    \"EC-No.\": [\n",
        "        r\"EC No.\\s*:\\s*(.+)\",\n",
        "        r\"(Polymer)\"], # List of Patterns for EC-NO.\n",
        "    \"Market Segment\": [\n",
        "        r\"7\\.3 Specific end use\\(s\\) : (.+?)\\s+SECTION\",\n",
        "        r\"Identified uses\\s*:\\s*Uses advised against\\s*:\\s*(.*?)(?=\\s*No data available\\.)\"\n",
        "        ], # List of Patterns for MARKET SEGMENT\n",
        "    \"Supplier ID Description\": [\n",
        "        r\"Supplier\\s*:\\s*(.+)\"\n",
        "        ], # Pattern for SUPPLIER\n",
        "    \"UN Code\": [\n",
        "        r\"14\\.1 UN number : (.+?)\\.\",\n",
        "        r\"(The product is not covered by international regulation on the transport of dangerous goods (IMDG, IATA, ADR/RID)..)\",\n",
        "        r\"(The product is not covered by international regulation on the transport of\\s+dangerous goods \\(IMDG, IATA, ADR/RID\\)\\. \\.)\"\n",
        "        ], # List of Patterns for UN CODE\n",
        "    \"Hazard\": [\n",
        "        r\"(The product has not been classified as dangerous)\",\n",
        "        r\"(The product has not been classified as dange rous according to GHS.)\",\n",
        "        r\"(The product has not bee n classified as dangerous)\"\n",
        "        ] # List of Patterns for HAZARD (Binary attribute)\n",
        "}\n",
        "\n",
        "def extract_text_from_pdf(file_path = str) -> str:\n",
        "    # Define a function to extract everything from PDF to txt. file\n",
        "    with open(file_path, \"rb\") as pdf_file:\n",
        "        pdf_reader = PyPDF2.PdfReader(pdf_file)\n",
        "        all_text = [page.extract_text() for page in pdf_reader.pages]\n",
        "    return \"\\n\".join(all_text)\n",
        "\n",
        "def search_patterns(patterns = str, text = str) -> str:\n",
        "    # iterate through all the texts to find patterns listed in the PATTERNS dictionary\n",
        "    for pattern in patterns:\n",
        "        match = re.search(pattern, text)\n",
        "        if match:\n",
        "            return match.group(1).replace('\\n', ' ').strip()\n",
        "    return \"No information found\"\n",
        "\n",
        "def extract_info_from_text(pdf_text = str) -> pd:\n",
        "    extracted_info = {}\n",
        "    for attribute, patterns in PATTERNS.items():\n",
        "        extracted_info[attribute] = search_patterns(patterns, pdf_text)\n",
        "\n",
        "    # Set hazard value to 0 if it's found, otherwise 1\n",
        "    extracted_info[\"Hazard\"] = 0 if extracted_info[\"Hazard\"] != \"No information found\" else 1\n",
        "    return extracted_info\n",
        "\n",
        "def extract_info_from_pdfs(file_paths = str) -> str:\n",
        "    data = []\n",
        "    for file_path in file_paths:\n",
        "        pdf_text = extract_text_from_pdf(file_path)\n",
        "        info = extract_info_from_text(pdf_text)\n",
        "        info[\"File Path\"] = file_path\n",
        "        data.append(info)\n",
        "    return data\n"
      ],
      "metadata": {
        "id": "Q7CZcG4b8VEN"
      },
      "execution_count": null,
      "outputs": []
    },
    {
      "cell_type": "markdown",
      "source": [
        "Execution Code Block"
      ],
      "metadata": {
        "id": "91gMyWj1f88t"
      }
    },
    {
      "cell_type": "code",
      "source": [
        "file_paths = [\n",
        "    \"Roquette_SDS_BE_MICROCEL® MC-101_000000201661_EN.PDF\",\n",
        "    \"Roquette_SDS_CH_XYLISORB® XTAB 240_000000200370_EN.PDF\",\n",
        "    \"Roquette_SDS_DE_CLEARGUM® CK 2020_000000200980_EN.PDF\",\n",
        "    \"Roquette_SDS_DE_PEARLITOL® BioPharma_000000201568_EN.PDF\",\n",
        "    \"Roquette_SDS_FI_NEOSORB® 70-70 B_000000200314_EN.PDF\",\n",
        "    \"Roquette_SDS_FR_NEOSORB® P200 SD_000000202155_EN.PDF\",\n",
        "    \"Roquette_SDS_FR_PEARLITOL® 50C_000000200967_EN.PDF\",\n",
        "    \"Roquette_SDS_FR_SODIUM GLUCONATE CRYSTALLINE F_000000200049_EN.PDF\",\n",
        "    \"Roquette_SDS_GB_NEOSORB® 70-02 B_000000200323_EN.PDF\",\n",
        "    \"Roquette_SDS_GB_ReadiLYCOAT® D Clear 110.01_000000200803_EN.PDF\",\n",
        "    \"Roquette_SDS_GHS_TABULOSE SC® 611_000000202042_EN.PDF\",\n",
        "    \"Roquette_SDS_MY_NEOSORB® PF_000000200349_EN.PDF\",\n",
        "    \"Roquette_SDS_NL_CLEARAM® CI 20 00_000000200211_EN.PDF\",\n",
        "    \"Roquette_SDS_NL_GLUTALYS® HQ - CORN GLUTEN_000000201374_EN.PDF\",\n",
        "    \"Roquette_SDS_RU_NUTRALYS® TP-C_000000201939_EN.PDF\",\n",
        "    \"Roquette_SDS_SE_POTATO STARCH SUPRA NP BACTERIOLOGICAL_000000200446_EN.PDF\",\n",
        "    \"Roquette_SDS_SG_CLEARGUM® CO 03_000000200289_EN.PDF\",\n",
        "    \"Roquette_SDS_SG_GLUCIDEX® 39_000000200678_EN.PDF\",\n",
        "    \"Roquette_SDS_TW_VITAL WHEAT GLUTEN_000000201059_EN.PDF\",\n",
        "    \"Roquette_SDS_TW_MANNITOL 60_000000200337_EN.PDF\",\n",
        "    \"Roquette_SDS_TW_复配增稠稳定水分保持剂 - LYCAGEL VS 720 PMX_000000202290_EN.PDF\",\n",
        "    \"Roquette_SDS_SG_NUTRIOSE® FM 15S_000000202079_EN.PDF\",\n",
        "    \"Roquette_SDS_SK_GLUCOSE SYRUP 6080_000000200523_EN.PDF\"\n",
        "]  # Replace with your actual PDF file paths\n",
        "\n",
        "# Extract information from all PDF files\n",
        "data = extract_info_from_pdfs(file_paths)\n",
        "\n",
        "# Convert the list of dictionaries into a DataFrame and display the DataFrame\n",
        "df = pd.DataFrame(data)\n",
        "df"
      ],
      "metadata": {
        "id": "JHte-8_tA07K"
      },
      "execution_count": null,
      "outputs": []
    },
    {
      "cell_type": "markdown",
      "source": [
        "## DataFrame to MS Excel"
      ],
      "metadata": {
        "id": "jmCKSobFfHNJ"
      }
    },
    {
      "cell_type": "code",
      "source": [
        "df.to_excel(\"extracted_roquette.xlsx\", index = False)"
      ],
      "metadata": {
        "id": "fwK6Ex1Z4OzF"
      },
      "execution_count": null,
      "outputs": []
    },
    {
      "cell_type": "markdown",
      "source": [
        "## DataFrame to SQL"
      ],
      "metadata": {
        "id": "nIITV2mje9Lz"
      }
    },
    {
      "cell_type": "code",
      "source": [
        "from sqlalchemy import create_engine\n",
        "engine = create_engine(\"sqlite://\", echo = False)"
      ],
      "metadata": {
        "id": "1lmt7ZZxJQT5"
      },
      "execution_count": null,
      "outputs": []
    },
    {
      "cell_type": "code",
      "source": [
        "df.to_sql(name = \"product roquette\", con = engine)"
      ],
      "metadata": {
        "id": "INw7ivsgdlvk"
      },
      "execution_count": null,
      "outputs": []
    },
    {
      "cell_type": "code",
      "source": [
        "from sqlalchemy import text\n",
        "with engine.connect() as conn:\n",
        "    conn.execute(text(\"SELECT * FROM product roquette\")).fetchall()"
      ],
      "metadata": {
        "id": "AxvJEFvYdsbD"
      },
      "execution_count": null,
      "outputs": []
    },
    {
      "cell_type": "code",
      "source": [
        "query = \"SELECT* FROM product roquette\""
      ],
      "metadata": {
        "id": "zwY35QkpeByG"
      },
      "execution_count": null,
      "outputs": []
    },
    {
      "cell_type": "code",
      "source": [
        "df_filtered = pd.read_sql_query(query, con = engine)\n",
        "df_filtered"
      ],
      "metadata": {
        "id": "Kkyoa8cyeL93"
      },
      "execution_count": null,
      "outputs": []
    },
    {
      "cell_type": "code",
      "source": [],
      "metadata": {
        "id": "gael73VUey8A"
      },
      "execution_count": null,
      "outputs": []
    }
  ]
}